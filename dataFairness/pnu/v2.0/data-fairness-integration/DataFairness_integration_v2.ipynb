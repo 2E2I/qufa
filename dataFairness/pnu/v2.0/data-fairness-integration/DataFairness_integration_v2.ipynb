{
 "cells": [
  {
   "cell_type": "markdown",
   "metadata": {},
   "source": [
    "# 공정성"
   ]
  },
  {
   "cell_type": "markdown",
   "metadata": {},
   "source": [
    "## 목표\n",
    "\n",
    "* 모델 데이터에서 나타날 수 있는 여러 유형의 편향에 대한 이해도 제고\n",
    "* 모델을 학습시키기 전에 특성 데이터를 살펴보고 잠재적 데이터 편향 요인을 미리 파악\n",
    "* 종합집계하는 대신 하위 그룹으로 묶어 모델 성능을 평가"
   ]
  },
  {
   "cell_type": "markdown",
   "metadata": {},
   "source": [
    "## 개요\n",
    "\n",
    "머신러닝(ML)에 원치 않는 편향이 발생할 수 있는 방식에 주목하면서 *공정성*을 염두에 두고 데이터세트를 살펴보고 분류자를 평가\n",
    "\n",
    "공정성에 관한 ML 프로세스의 컨텍스트를 구성할 기회를 제공하는 **Fairness** 작업을 확인. 작업을 진행하는 동안 편향을 파악하고, 이러한 편향이 해결되지 않을 때 발생하는 모델 예측의 장기적인 영향을 고려"
   ]
  },
  {
   "cell_type": "markdown",
   "metadata": {},
   "source": [
    "## 데이터세트 및 Prediction 작업 정보\n",
    "서울대학교 보건 데이터셋을 활용\n",
    "\n",
    "\\- 원본 데이터세트에서 ML 공정성에 영향을 미칠 수 있는 field만을 임의 선택하여 학습에 사용\n",
    "\n",
    "### Binary(이진) Features\n",
    "*   `sex`: 성별\n",
    "*   `cva`: 뇌졸중 과거력\n",
    "*   `fcvayn`: 뇌졸중 가족력\n",
    "\n",
    "### Numeric(수적) Features\n",
    "*   `packyear`: 하루 흡연량(갑) X 흡연기간\n",
    "*   `packyear`: 일주일간 음주 빈도\n",
    "*   `exerfq`: 일주일간 운동한 총 일수\n",
    "\n",
    "### Categorical(범주적) Features\n",
    "*   `age`: 나이\n",
    "\n",
    "### Prediction 작업\n",
    "예측 작업은 조사 대상자의 성별을 예측하기 위해 실행\n",
    "\n",
    "### Label\n",
    "*   `sex`: 조사 대상자의 성별을 나타냄"
   ]
  },
  {
   "cell_type": "markdown",
   "metadata": {},
   "source": [
    "## 공정성 지표"
   ]
  },
  {
   "cell_type": "markdown",
   "metadata": {},
   "source": [
    "### 1. 균등 기회 (Equal Opportunity)\n",
    "\n",
    "- definition: 보호 그룹과 보호되지 않은 그룹은 동일한 참긍정(True Positive)의 비율을 가져야 함\n",
    "- `sex` field 에서 남녀 성별 확인을 위한 Prediction\n",
    "- Category `cva` 중 Subgroup `0`(뇌졸중 과거력 있음) 입력에 따른 TPR과 Subgroup `1`(뇌졸중 과거력 없음) 입력에 따른 TPR이 같아야만 균등 기회(Equal Opportunity)를 만족"
   ]
  },
  {
   "cell_type": "markdown",
   "metadata": {},
   "source": [
    "### 2. 균등 승률 (Equalized odds)\n",
    "\n",
    "- definition: 보호된 그룹과 보호되지 않은 그룹은 참긍정(True Positive)과 오탐지(False Negative)에 대해 동일한 비율을 가져야 함\n",
    "- `sex` field 에서 남녀 성별 확인을 위한 Prediction\n",
    "- Category `cva` 중 Subgroup `0`(뇌졸중 과거력 있음) 입력에 따른 TPR, FPR과 Subgroup `1`(뇌졸중 과거력 없음) 입력에 따른 TPR, FPR이 같아야만 균등 승률(Equalized odds)을 만족"
   ]
  },
  {
   "cell_type": "markdown",
   "metadata": {},
   "source": [
    "### 3. 인구통계패리티 (Demographic Parity)\n",
    "- definition: 긍정적인 결과의 가능성은 개인이 보호된(예 : 여성) 그룹에 있는지 여부 에 관계없이 동일해야 함\n",
    "- `sex` field 에서 남녀 성별 확인을 위한 Prediction\n",
    "- Category `cva` 중 Subgroup `0`(뇌졸중 과거력 있음) 입력에 따른 TP+FP/TN+FN과 Subgroup `1`(뇌졸중 과거력 없음) 입력에 따른 TP+FP/TN+FN이 같아야만 인구통계패리티 (Demographic Parity)을 만족"
   ]
  },
  {
   "cell_type": "markdown",
   "metadata": {},
   "source": [
    "## Dependency"
   ]
  },
  {
   "cell_type": "code",
   "execution_count": 1,
   "metadata": {
    "id": "S44yNfPhEKzM"
   },
   "outputs": [],
   "source": [
    "import pandas as pd\n",
    "import numpy as np\n",
    "import math\n",
    "import random\n",
    "import tqdm\n",
    "import time\n",
    "\n",
    "from sklearn.preprocessing import LabelEncoder\n",
    "from sklearn.linear_model import LogisticRegression\n",
    "from sklearn.svm import SVC\n",
    "\n",
    "from matplotlib import pyplot as plt\n",
    "from matplotlib import rcParams\n",
    "\n",
    "import seaborn as sns\n",
    "import itertools"
   ]
  },
  {
   "cell_type": "markdown",
   "metadata": {},
   "source": [
    "## Load dataset\n",
    "\n",
    "### target\n",
    "*   `sex`: 조사 대상자의 성별을 나타냄\n",
    "\n",
    "### Subgroup\n",
    "*   `cva`: 뇌졸중 과거력을 나타냄"
   ]
  },
  {
   "cell_type": "code",
   "execution_count": 2,
   "metadata": {},
   "outputs": [],
   "source": [
    "train = pd.read_csv(\"before.csv\")\n",
    "train.fillna(0, inplace=True)\n",
    "\n",
    "test = pd.read_csv('testset.csv')\n",
    "test.fillna(0, inplace=True)\n",
    "\n",
    "target = 'sex'\n",
    "subgroup = 'cva'\n",
    "\n",
    "col = list(train.columns)\n",
    "except_target = col.copy()\n",
    "except_target.remove(target)\n",
    "lable=target\n",
    "features = list(train.columns)\n",
    "features.remove(lable)"
   ]
  },
  {
   "cell_type": "code",
   "execution_count": 3,
   "metadata": {
    "colab": {
     "base_uri": "https://localhost:8080/"
    },
    "id": "Knx5pklhGecQ",
    "outputId": "51563b84-7e72-47f7-b49d-6812b751f4b9",
    "scrolled": true
   },
   "outputs": [],
   "source": [
    "y_train=train[lable].astype(int)\n",
    "X_train=train[features].astype(int)\n",
    "\n",
    "\n",
    "y_test=test[lable].astype(int)\n",
    "X_test=test[features].astype(int)\n",
    "\n",
    "CATEGORY  =  subgroup\n",
    "SUBGROUP = 0 \n",
    "X_test_a  = test.loc[test[CATEGORY] == SUBGROUP][features]\n",
    "y_test_a  = test.loc[test[CATEGORY] == SUBGROUP][lable]\n",
    "\n",
    "SUBGROUP = 1 \n",
    "X_test_b  = test.loc[test[CATEGORY] == SUBGROUP][features]\n",
    "y_test_b  = test.loc[test[CATEGORY] == SUBGROUP][lable]"
   ]
  },
  {
   "cell_type": "markdown",
   "metadata": {},
   "source": [
    "## Fairness 작업 #1\n",
    "\n",
    "* 보정 전 데이터셋를 사용하여 `SVC`, `LogisticRegression` 등 모델 학습\n",
    "* 학습 결과에 따른 서브그룹별 TP, TN, FP, FN 도출 및 Confusion Matrix 시각화"
   ]
  },
  {
   "cell_type": "code",
   "execution_count": 4,
   "metadata": {},
   "outputs": [],
   "source": [
    "def get_info(y_test, y_hat) : \n",
    "    \n",
    "    tp = np.sum((y_test ==1) & (y_hat==1) )\n",
    "    tn = np.sum((y_test ==0) & (y_hat==0) )\n",
    "    fp = np.sum((y_test ==0) & (y_hat==1) )\n",
    "    fn = np.sum((y_test ==1) & (y_hat==0) )\n",
    "    \n",
    "    accuracy = np.mean(np.equal(y_test,y_hat))\n",
    "    \n",
    "    return tp, tn, fp, fn, accuracy"
   ]
  },
  {
   "cell_type": "code",
   "execution_count": 5,
   "metadata": {},
   "outputs": [],
   "source": [
    "def plot_confusion_matrix(TP, FN, FP, TN):\n",
    "    \n",
    "    confusion_matrix = np.array([[TP, FN], \n",
    "                                 [FP, TN]])\n",
    "    class_names = ['cva=1', 'cva=2']          \n",
    "    subgroup =  \"Result\"\n",
    "\n",
    "    df_cm = pd.DataFrame(\n",
    "      confusion_matrix, index=class_names, columns=class_names, \n",
    "    )\n",
    "\n",
    "    fig = plt.figure(figsize=(8,6))\n",
    "\n",
    "    plt.title('Confusion Matrix ' + subgroup)\n",
    "\n",
    "    strings = np.asarray([['True Positives', 'False Negatives'],\n",
    "                        ['False Positives', 'True Negatives']])\n",
    "    labels = (np.asarray(\n",
    "      [\"{0:g}\\n{1}\".format(value, string) for string, value in zip(\n",
    "          strings.flatten(), confusion_matrix.flatten())])).reshape(2, 2)\n",
    "\n",
    "    heatmap = sns.heatmap(df_cm, annot=labels, fmt=\"\", \n",
    "      linewidths=2.0, cmap=sns.color_palette(\"GnBu_d\"))\n",
    "    heatmap.yaxis.set_ticklabels(\n",
    "      heatmap.yaxis.get_ticklabels(), rotation=0, ha='right')\n",
    "    heatmap.xaxis.set_ticklabels(\n",
    "      heatmap.xaxis.get_ticklabels(), rotation=45, ha='right')\n",
    "    plt.ylabel('References')\n",
    "    plt.xlabel('Predictions')\n",
    "    \n",
    "    return fig"
   ]
  },
  {
   "cell_type": "code",
   "execution_count": 6,
   "metadata": {},
   "outputs": [],
   "source": [
    "def draw_plt(TP, TN, FP, FN):\n",
    "    SUBGROUP =  \"Result\"\n",
    "\n",
    "    classes = ['cva=1', 'cva=2']\n",
    "\n",
    "    confusion_matrix = np.array([[TP, FN], \n",
    "                                 [FP, TN]])\n",
    "\n",
    "    performance_metrics = {\n",
    "        'TPR=TP/(TP+FN)': TP/(TP+FN),\n",
    "        'TNR=TN/(TN+FN)': TN/(TN+FP),\n",
    "        'FPR=FP/(TP+FP)': FP/(FP+TN),\n",
    "        'FNR=FN/(TP+FN)': FN/(TP+FN)\n",
    "    }\n",
    "    \n",
    "    return plot_confusion_matrix(confusion_matrix, classes, SUBGROUP)"
   ]
  },
  {
   "cell_type": "code",
   "execution_count": 7,
   "metadata": {},
   "outputs": [
    {
     "name": "stdout",
     "output_type": "stream",
     "text": [
      "before TPRA : 0.9255729061042385/ before FPRA : 0.8147847278635256/ before DFA : 0.14913712686567165\n",
      "before TPRB : 0.855072463768116/ before FPRB : 0.7105263157894737/ before DFB : 0.2831858407079646\n"
     ]
    },
    {
     "data": {
      "image/png": "[encoded data removed]",
      "text/plain": [
       "<Figure size 576x432 with 2 Axes>"
      ]
     },
     "metadata": {
      "needs_background": "light"
     },
     "output_type": "display_data"
    },
    {
     "data": {
      "image/png": "[encoded data removed]",
      "text/plain": [
       "<Figure size 576x432 with 2 Axes>"
      ]
     },
     "metadata": {
      "needs_background": "light"
     },
     "output_type": "display_data"
    }
   ],
   "source": [
    "#model = SVC(kernel = 'rbf')\n",
    "#model = SVC(C=1)\n",
    "model = LogisticRegression()\n",
    "model.fit(X_train, y_train)\n",
    "\n",
    "y_hat = model.predict(X_test_a)\n",
    "tp_a, tn_a, fp_a, fn_a, accuracy = get_info(y_test_a, y_hat)\n",
    "before_tpr_a = tp_a/(tp_a+fn_a)\n",
    "before_fpr_a = fp_a/(fp_a+tn_a)\n",
    "before_dp_a = (tn_a+fn_a)/(tp_a+fp_a)\n",
    "\n",
    "y_hat = model.predict(X_test_b)\n",
    "tp_b, tn_b, fp_b, fn_b, accuracy = get_info(y_test_b, y_hat)\n",
    "before_tpr_b = tp_b/(tp_b+fn_b)\n",
    "before_fpr_b = fp_b/(fp_b+tn_b)\n",
    "before_dp_b = (tn_b+fn_b)/(tp_b+fp_b) \n",
    "\n",
    "print(\"before TPRA : \" + str(before_tpr_a) + \"/ before FPRA : \" + str(before_fpr_a) + \"/ before DFA : \" + str(before_dp_a))\n",
    "print(\"before TPRB : \" + str(before_tpr_b) + \"/ before FPRB : \" + str(before_fpr_b) + \"/ before DFB : \" + str(before_dp_b))\n",
    "\n",
    "ax1 = plot_confusion_matrix(tp_a, tn_a,fp_a, fn_a)\n",
    "ax2 = plot_confusion_matrix(tp_b, tn_b,fp_b, fn_b)"
   ]
  },
  {
   "cell_type": "markdown",
   "metadata": {},
   "source": [
    "## Fairness 작업 #2\n",
    "\n",
    "* Fairness 작업 #1에서 도출된 서브그룹 별 TPR 활용"
   ]
  },
  {
   "cell_type": "code",
   "execution_count": 8,
   "metadata": {},
   "outputs": [],
   "source": [
    "def get_first_data( df, cur_col, tpra, tprb ) : \n",
    "    uniq = df[cur_col].unique()\n",
    "    return_li = []\n",
    "    for i in uniq : \n",
    "        return_li.append(df[df[cur_col]==i])\n",
    "\n",
    "    arg_len = len(return_li)\n",
    "    avg_ratio=abs(tpra-tprb)\n",
    "    avg_fair=[]\n",
    "    arg_sum = 0\n",
    "    \n",
    "    for i in range(arg_len) : \n",
    "        arg_sum+=len(return_li[i])\n",
    "    arg_avg = arg_sum/arg_len\n",
    "    \n",
    "    for i in range(arg_len) : \n",
    "        if len(return_li[i])>arg_avg : \n",
    "            avg_fair.append(len(return_li[i])-(len(return_li[i])-arg_avg)*avg_ratio)\n",
    "        else : avg_fair.append(len(return_li[i]))\n",
    "            \n",
    "    return return_li, avg_fair"
   ]
  },
  {
   "cell_type": "code",
   "execution_count": 9,
   "metadata": {},
   "outputs": [],
   "source": [
    "def get_next_data( df, cur_col, ratio ) : \n",
    "    uniq = df[cur_col].unique()\n",
    "    return_li = []\n",
    "    for i in uniq : \n",
    "        return_li.append(df[df[cur_col]==i])\n",
    "    arg_avg, avg_fair= get_avg(return_li, ratio)\n",
    "    return return_li, avg_fair\n",
    "\n",
    "def get_avg( arg, ratio ) : \n",
    "    arg_sum = 0\n",
    "    arg_len = len(arg)\n",
    "    avg_ratio=[]\n",
    "    avg_fair=[]\n",
    "    \n",
    "    for i in range(arg_len) : \n",
    "        arg_sum+=(len(arg[i])*ratio)\n",
    "    arg_avg = arg_sum/arg_len\n",
    "        \n",
    "    for i in range(arg_len) : \n",
    "        if len(arg[i])>arg_avg : \n",
    "            avg_fair.append(arg_avg)\n",
    "        else : avg_fair.append(len(arg[i]))\n",
    "            \n",
    "    return arg_avg, avg_fair"
   ]
  },
  {
   "cell_type": "code",
   "execution_count": 10,
   "metadata": {},
   "outputs": [],
   "source": [
    "def fairness(avg_fair, fair_data, col):\n",
    "\n",
    "    tmp_fair_data=[]\n",
    "    tmp_avg_li=[]\n",
    "\n",
    "    for i,j in zip(fair_data,avg_fair) : \n",
    "        if j < len(i) : \n",
    "            ratio=1-((len(i)-j)/len(i))\n",
    "        else : ratio=1\n",
    "        #print(ratio)        \n",
    "        return_li,avg = get_next_data(i, col, ratio)\n",
    "\n",
    "        tmp_avg_li.append(avg)\n",
    "        tmp_fair_data.append(return_li)\n",
    "\n",
    "    tmp_fair_data=list(itertools.chain(*tmp_fair_data))\n",
    "    #print(len(b))\n",
    "\n",
    "    avg_fair=list(itertools.chain(*tmp_avg_li))\n",
    "    \n",
    "    return avg_fair, tmp_fair_data"
   ]
  },
  {
   "cell_type": "code",
   "execution_count": 11,
   "metadata": {},
   "outputs": [],
   "source": [
    "fair_data, avg_fair = get_first_data(train, target, before_tpr_a, before_tpr_b)\n",
    "for i in except_target : \n",
    "    avg_fair, fair_data = fairness(avg_fair, fair_data, i)\n",
    "\n",
    "fair=pd.DataFrame(columns=col)\n",
    "for i,j in zip(fair_data,avg_fair) :\n",
    "    fair = pd.concat([i.sample(int(j)), fair])\n",
    "    \n",
    "fair.to_csv(\"after.csv\", index=False)"
   ]
  },
  {
   "cell_type": "markdown",
   "metadata": {},
   "source": [
    "## Fairness 작업 #3\n",
    "\n",
    "* 검증 작업\n",
    "* 보정 후 데이터셋를 사용하여 `SVC`, `LogisticRegression` 등 모델 학습\n",
    "* 학습 결과에 따른 서브그룹별 TP, TN, FP, FN 도출 및 Confusion Matrix 시각화"
   ]
  },
  {
   "cell_type": "code",
   "execution_count": 12,
   "metadata": {},
   "outputs": [],
   "source": [
    "fair = pd.read_csv(\"after.csv\")\n",
    "\n",
    "y_fair=fair[lable].astype(int)\n",
    "X_fair=fair[features].astype(int)"
   ]
  },
  {
   "cell_type": "code",
   "execution_count": 13,
   "metadata": {
    "scrolled": false
   },
   "outputs": [
    {
     "name": "stderr",
     "output_type": "stream",
     "text": [
      "/usr/local/lib/python3.6/dist-packages/sklearn/linear_model/_logistic.py:765: ConvergenceWarning: lbfgs failed to converge (status=1):\n",
      "STOP: TOTAL NO. of ITERATIONS REACHED LIMIT.\n",
      "\n",
      "Increase the number of iterations (max_iter) or scale the data as shown in:\n",
      "    https://scikit-learn.org/stable/modules/preprocessing.html\n",
      "Please also refer to the documentation for alternative solver options:\n",
      "    https://scikit-learn.org/stable/modules/linear_model.html#logistic-regression\n",
      "  extra_warning_msg=_LOGISTIC_SOLVER_CONVERGENCE_MSG)\n"
     ]
    },
    {
     "name": "stdout",
     "output_type": "stream",
     "text": [
      "after TPRA : 0.9592374771851552/ after FPRA : 0.8976441917140536/ after DFA : 0.07704918032786885\n",
      "after TPRB : 0.9565217391304348/ after FPRB : 0.8552631578947368/ after DFB : 0.10687022900763359\n"
     ]
    },
    {
     "data": {
      "image/png": "[encoded data removed]",
      "text/plain": [
       "<Figure size 576x432 with 2 Axes>"
      ]
     },
     "metadata": {
      "needs_background": "light"
     },
     "output_type": "display_data"
    },
    {
     "data": {
      "image/png": "[encoded data removed]",
      "text/plain": [
       "<Figure size 576x432 with 2 Axes>"
      ]
     },
     "metadata": {
      "needs_background": "light"
     },
     "output_type": "display_data"
    }
   ],
   "source": [
    "#model = SVC(kernel = 'rbf')\n",
    "model = LogisticRegression()\n",
    "#model = SVC(C=1)\n",
    "model.fit(X_fair, y_fair)\n",
    "\n",
    "y_hat = model.predict(X_test_a)\n",
    "tp_a, tn_a, fp_a, fn_a, accuracy = get_info(y_test_a, y_hat)\n",
    "after_tpr_a = tp_a/(tp_a+fn_a)\n",
    "after_fpr_a = fp_a/(fp_a+tn_a)\n",
    "after_dp_a = (tn_a+fn_a)/(tp_a+fp_a)\n",
    "\n",
    "y_hat = model.predict(X_test_b)\n",
    "tp_b, tn_b, fp_b, fn_b, accuracy = get_info(y_test_b, y_hat)\n",
    "after_tpr_b = tp_b/(tp_b+fn_b)\n",
    "after_fpr_b = fp_b/(fp_b+tn_b)\n",
    "after_dp_b = (tn_b+fn_b)/(tp_b+fp_b)\n",
    "\n",
    "print(\"after TPRA : \" + str(after_tpr_a) + \"/ after FPRA : \" + str(after_fpr_a) + \"/ after DFA : \" + str(after_dp_a))\n",
    "print(\"after TPRB : \" + str(after_tpr_b) + \"/ after FPRB : \" + str(after_fpr_b) + \"/ after DFB : \" + str(after_dp_b))\n",
    "\n",
    "ax1 = plot_confusion_matrix(tp_a, tn_a,fp_a, fn_a)\n",
    "ax2 = plot_confusion_matrix(tp_b, tn_b,fp_b, fn_b)"
   ]
  },
  {
   "attachments": {},
   "cell_type": "markdown",
   "metadata": {},
   "source": [
    "## 지표별 보정성능 (균등 기회 - equality of opportunity)\n",
    "\n",
    "$$ 보정성능 = (\\frac{|before\\_TPR\\_A - before\\_TPR\\_B|-|after\\_TPR\\_A - after\\_TPR\\_B|}{|before\\_TPR\\_A - before\\_TPR\\_B|}) * 100 $$"
   ]
  },
  {
   "cell_type": "code",
   "execution_count": 14,
   "metadata": {},
   "outputs": [
    {
     "name": "stdout",
     "output_type": "stream",
     "text": [
      "Equality of Opportunity : 96.14791345312044 %\n"
     ]
    }
   ],
   "source": [
    "score_TPR = (abs(before_tpr_a-before_tpr_b)-abs(after_tpr_a-after_tpr_b))/abs(before_tpr_a-before_tpr_b)\n",
    "print(\"Equality of Opportunity : \" + str(score_TPR*100) + \" %\")"
   ]
  },
  {
   "cell_type": "markdown",
   "metadata": {},
   "source": [
    "## 지표별 보정성능 (균등 승률 - equalized odds)\n",
    "\n",
    "$$ 보정성능 = (\\frac{(\\frac{|before\\_TPR\\_A - before\\_TPR\\_B|-|after\\_TPR\\_A - after\\_TPR\\_B|}{|before\\_TPR\\_A - before\\_TPR\\_B|}) + (\\frac{|before\\_FPR\\_A - before\\_FPR\\_B|-|after\\_FPR\\_A - after\\_FPR\\_B|}{|before\\_FPR\\_A - before\\_FPR\\_B|})}{2}) * 100 $$"
   ]
  },
  {
   "cell_type": "code",
   "execution_count": 15,
   "metadata": {},
   "outputs": [
    {
     "name": "stdout",
     "output_type": "stream",
     "text": [
      "Equalized odds : 77.74896185266233 %\n"
     ]
    }
   ],
   "source": [
    "score_TPRFPR = ((abs(before_tpr_a-before_tpr_b)-abs(after_tpr_a-after_tpr_b))/abs(before_tpr_a-before_tpr_b) + \n",
    "                (abs(before_fpr_a-before_fpr_b)-abs(after_fpr_a-after_fpr_b))/abs(before_fpr_a-before_fpr_b))/2\n",
    "print(\"Equalized odds : \" + str(score_TPRFPR*100) + \" %\")"
   ]
  },
  {
   "cell_type": "markdown",
   "metadata": {},
   "source": [
    "## 지표별 보정성능 (인구통계 패리티 - demographic parity)\n",
    "\n",
    "$$ 보정성능 = (\\frac{|before\\_DP\\_A - before\\_DP\\_B|-|after\\_DP\\_A - after\\_DP\\_B|}{|before\\_DP\\_A - before\\_DP\\_B|}) * 100 $$"
   ]
  },
  {
   "cell_type": "code",
   "execution_count": 16,
   "metadata": {},
   "outputs": [
    {
     "name": "stdout",
     "output_type": "stream",
     "text": [
      "Demographic Parity : 77.75357343984 %\n"
     ]
    }
   ],
   "source": [
    "score_DP = (abs(before_dp_a-before_dp_b)-abs(after_dp_a-after_dp_b))/abs(before_dp_a-before_dp_b)\n",
    "print(\"Demographic Parity : \" + str(score_DP*100) + \" %\")"
   ]
  },
  {
   "cell_type": "markdown",
   "metadata": {},
   "source": [
    "## 보정성능 (평균)\n",
    "\n",
    "$$ 보정성능 = \\frac{1}{n}\\sum_{i=1}^n(\\frac{|IFV_N-OFV_N|-|IFV_N-MFV_N|}{|IFV_N-OFV_N|}) = (\\frac{균등기회보정률+균등승률보정률+인구통계패리티보정률}{3})$$ "
   ]
  },
  {
   "cell_type": "markdown",
   "metadata": {},
   "source": [
    "*   `i`: 공정성 보정지표\n",
    "*   `n`: 적용한 공정성 보정지표 수\n",
    "*   `IFV(Ideal Fair Value)`: 공정성 지표별 기준 값\n",
    "*   `OFV(Original Fair Value)`: 보정 전 공정성 지표 값\n",
    "*   `MFV(Mitigated Fiar Value)`: 보정 후 공정성 지표 값\n",
    "\n",
    "* 출처 : 과제 RFP"
   ]
  },
  {
   "cell_type": "code",
   "execution_count": 17,
   "metadata": {},
   "outputs": [
    {
     "name": "stdout",
     "output_type": "stream",
     "text": [
      "Avg : 83.88348291520758 %\n"
     ]
    }
   ],
   "source": [
    "avg_score = (score_TPR+score_TPRFPR+score_DP)/3\n",
    "print(\"Avg : \"+str(avg_score*100) + \" %\")"
   ]
  },
  {
   "cell_type": "code",
   "execution_count": null,
   "metadata": {},
   "outputs": [],
   "source": []
  }
 ],
 "metadata": {
  "colab": {
   "collapsed_sections": [],
   "name": "datafairness.ipynb",
   "provenance": []
  },
  "kernelspec": {
   "display_name": "Python 3",
   "language": "python",
   "name": "python3"
  },
  "language_info": {
   "codemirror_mode": {
    "name": "ipython",
    "version": 3
   },
   "file_extension": ".py",
   "mimetype": "text/x-python",
   "name": "python",
   "nbconvert_exporter": "python",
   "pygments_lexer": "ipython3",
   "version": "3.6.9"
  }
 },
 "nbformat": 4,
 "nbformat_minor": 1
}
