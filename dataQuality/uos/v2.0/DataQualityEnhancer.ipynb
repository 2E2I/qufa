{
 "cells": [
  {
   "cell_type": "markdown",
   "metadata": {
    "id": "VtrIzhJaNE8s"
   },
   "source": [
    "## 품질 성능"
   ]
  },
  {
   "cell_type": "markdown",
   "metadata": {
    "id": "wxrc4x_ZPfAy"
   },
   "source": [
    "1. 수치형 데이터 결측률"
   ]
  },
  {
   "cell_type": "code",
   "execution_count": 3,
   "metadata": {
    "colab": {
     "base_uri": "https://localhost:8080/"
    },
    "executionInfo": {
     "elapsed": 2384,
     "status": "ok",
     "timestamp": 1636100300372,
     "user": {
      "displayName": "DOHOON LEE",
      "photoUrl": "https://lh3.googleusercontent.com/a-/AOh14GgbilawY5M8IhTBJVT0ZHsrfWf7i9EKECyTiPYv=s64",
      "userId": "12016024105431403257"
     },
     "user_tz": -540
    },
    "id": "qog6wG72NM7j",
    "outputId": "d95a2d0f-d2be-4942-8a28-e9a68e87a15f"
   },
   "outputs": [
    {
     "name": "stdout",
     "output_type": "stream",
     "text": [
      "9.5529 %\n"
     ]
    }
   ],
   "source": [
    "!python get_numerical_missing_rate.py --input_fname ./data/arisu.csv"
   ]
  },
  {
   "cell_type": "markdown",
   "metadata": {
    "id": "xZxvEwVlPp-5"
   },
   "source": [
    "2. 범주형 데이터 결측률"
   ]
  },
  {
   "cell_type": "code",
   "execution_count": 4,
   "metadata": {
    "colab": {
     "base_uri": "https://localhost:8080/"
    },
    "executionInfo": {
     "elapsed": 1899,
     "status": "ok",
     "timestamp": 1636100302253,
     "user": {
      "displayName": "DOHOON LEE",
      "photoUrl": "https://lh3.googleusercontent.com/a-/AOh14GgbilawY5M8IhTBJVT0ZHsrfWf7i9EKECyTiPYv=s64",
      "userId": "12016024105431403257"
     },
     "user_tz": -540
    },
    "id": "zP06fdi4PpHK",
    "outputId": "c93ea4d9-2445-46cc-bb8c-331db6516521"
   },
   "outputs": [
    {
     "name": "stdout",
     "output_type": "stream",
     "text": [
      "10.0348 %\n"
     ]
    }
   ],
   "source": [
    "!python get_categorical_missing_rate.py --input_fname ./data/perform_info.csv"
   ]
  },
  {
   "cell_type": "markdown",
   "metadata": {
    "id": "R_wK5AqQP0V4"
   },
   "source": [
    "3. 이상치 비율"
   ]
  },
  {
   "cell_type": "code",
   "execution_count": 5,
   "metadata": {
    "colab": {
     "base_uri": "https://localhost:8080/"
    },
    "executionInfo": {
     "elapsed": 41297,
     "status": "ok",
     "timestamp": 1636100343547,
     "user": {
      "displayName": "DOHOON LEE",
      "photoUrl": "https://lh3.googleusercontent.com/a-/AOh14GgbilawY5M8IhTBJVT0ZHsrfWf7i9EKECyTiPYv=s64",
      "userId": "12016024105431403257"
     },
     "user_tz": -540
    },
    "id": "tyfuqCB8NaYg",
    "outputId": "09ad6cc8-e3b4-4932-be94-89618b8cee42"
   },
   "outputs": [
    {
     "name": "stdout",
     "output_type": "stream",
     "text": [
      "100% 10/10 [00:12<00:00,  1.22s/it]\n",
      "9.806 %\n"
     ]
    }
   ],
   "source": [
    "!python get_outlier_rate.py --input_fname ./data/box_office.csv --train_fname ./data/box_office_clean.csv"
   ]
  },
  {
   "cell_type": "markdown",
   "metadata": {
    "id": "ehDAJlfQQKtx"
   },
   "source": [
    "4. 텍스트 오류율"
   ]
  },
  {
   "cell_type": "code",
   "execution_count": 6,
   "metadata": {
    "colab": {
     "base_uri": "https://localhost:8080/"
    },
    "executionInfo": {
     "elapsed": 157039,
     "status": "ok",
     "timestamp": 1636100500558,
     "user": {
      "displayName": "DOHOON LEE",
      "photoUrl": "https://lh3.googleusercontent.com/a-/AOh14GgbilawY5M8IhTBJVT0ZHsrfWf7i9EKECyTiPYv=s64",
      "userId": "12016024105431403257"
     },
     "user_tz": -540
    },
    "id": "bpiXO_ZCvEtU",
    "outputId": "d1a84ec1-c926-437a-9570-071af6c1cffd"
   },
   "outputs": [
    {
     "name": "stdout",
     "output_type": "stream",
     "text": [
      "100% 831/831 [02:35<00:00,  5.35it/s]\n",
      "7.9481 %\n"
     ]
    }
   ],
   "source": [
    "!python get_text_error_rate.py --input_fname ./data/recbook.csv --col_name description"
   ]
  },
  {
   "cell_type": "markdown",
   "metadata": {
    "id": "aCNDsENwOI1W"
   },
   "source": [
    "5. 포맷 오류율"
   ]
  },
  {
   "cell_type": "code",
   "execution_count": 7,
   "metadata": {
    "colab": {
     "base_uri": "https://localhost:8080/"
    },
    "executionInfo": {
     "elapsed": 1702,
     "status": "ok",
     "timestamp": 1636100502254,
     "user": {
      "displayName": "DOHOON LEE",
      "photoUrl": "https://lh3.googleusercontent.com/a-/AOh14GgbilawY5M8IhTBJVT0ZHsrfWf7i9EKECyTiPYv=s64",
      "userId": "12016024105431403257"
     },
     "user_tz": -540
    },
    "id": "xrwYwahPOIAc",
    "outputId": "8d7ac29d-31b0-4f8f-b6c4-e2b91fe784a8"
   },
   "outputs": [
    {
     "name": "stdout",
     "output_type": "stream",
     "text": [
      "9.984 %\n"
     ]
    }
   ],
   "source": [
    "!python format_validation.py --input_fname ./data/event.csv --func_name phone_check --col_name phoneNumber"
   ]
  },
  {
   "cell_type": "markdown",
   "metadata": {
    "id": "wnjDYFTPQOl9"
   },
   "source": [
    "## 품질 향상도"
   ]
  },
  {
   "cell_type": "markdown",
   "metadata": {
    "id": "5QPN9d1BQjlS"
   },
   "source": [
    "1. 수치형 데이터 결측률"
   ]
  },
  {
   "cell_type": "code",
   "execution_count": 8,
   "metadata": {
    "colab": {
     "base_uri": "https://localhost:8080/"
    },
    "executionInfo": {
     "elapsed": 48968,
     "status": "ok",
     "timestamp": 1636100551211,
     "user": {
      "displayName": "DOHOON LEE",
      "photoUrl": "https://lh3.googleusercontent.com/a-/AOh14GgbilawY5M8IhTBJVT0ZHsrfWf7i9EKECyTiPYv=s64",
      "userId": "12016024105431403257"
     },
     "user_tz": -540
    },
    "id": "_P42KYK8QlQ7",
    "outputId": "f4011e3f-4089-4391-8f63-b09b9f73baa8"
   },
   "outputs": [
    {
     "name": "stdout",
     "output_type": "stream",
     "text": [
      "100% 10/10 [00:39<00:00,  3.92s/it]\n"
     ]
    }
   ],
   "source": [
    "!python data_imputation.py --input_fname ./data/arisu.csv --result_path ./arisu-after"
   ]
  },
  {
   "cell_type": "code",
   "execution_count": 9,
   "metadata": {
    "colab": {
     "base_uri": "https://localhost:8080/"
    },
    "executionInfo": {
     "elapsed": 30,
     "status": "ok",
     "timestamp": 1636100551211,
     "user": {
      "displayName": "DOHOON LEE",
      "photoUrl": "https://lh3.googleusercontent.com/a-/AOh14GgbilawY5M8IhTBJVT0ZHsrfWf7i9EKECyTiPYv=s64",
      "userId": "12016024105431403257"
     },
     "user_tz": -540
    },
    "id": "dDsYghqFQjlS",
    "outputId": "8e990857-65f5-4328-8065-9cd5a1510504"
   },
   "outputs": [
    {
     "name": "stdout",
     "output_type": "stream",
     "text": [
      "0.0 %\n"
     ]
    }
   ],
   "source": [
    "!python get_numerical_missing_rate.py --input_fname arisu-after.csv"
   ]
  },
  {
   "cell_type": "markdown",
   "metadata": {
    "id": "5sI4BmBpQjlT"
   },
   "source": [
    "2. 범주형 데이터 결측률"
   ]
  },
  {
   "cell_type": "code",
   "execution_count": 10,
   "metadata": {
    "colab": {
     "base_uri": "https://localhost:8080/"
    },
    "executionInfo": {
     "elapsed": 178102,
     "status": "ok",
     "timestamp": 1636100729291,
     "user": {
      "displayName": "DOHOON LEE",
      "photoUrl": "https://lh3.googleusercontent.com/a-/AOh14GgbilawY5M8IhTBJVT0ZHsrfWf7i9EKECyTiPYv=s64",
      "userId": "12016024105431403257"
     },
     "user_tz": -540
    },
    "id": "04665ZwLQzCm",
    "outputId": "e16ae3c7-298a-40f5-8b00-9b267329c8f9"
   },
   "outputs": [
    {
     "name": "stdout",
     "output_type": "stream",
     "text": [
      "100% 10/10 [02:37<00:00, 15.74s/it]\n"
     ]
    }
   ],
   "source": [
    "!python data_imputation.py --input_fname ./data/perform_info.csv --result_path ./perform_info-after"
   ]
  },
  {
   "cell_type": "code",
   "execution_count": 11,
   "metadata": {
    "colab": {
     "base_uri": "https://localhost:8080/"
    },
    "executionInfo": {
     "elapsed": 772,
     "status": "ok",
     "timestamp": 1636100730045,
     "user": {
      "displayName": "DOHOON LEE",
      "photoUrl": "https://lh3.googleusercontent.com/a-/AOh14GgbilawY5M8IhTBJVT0ZHsrfWf7i9EKECyTiPYv=s64",
      "userId": "12016024105431403257"
     },
     "user_tz": -540
    },
    "id": "EFdPf6pjQjlT",
    "outputId": "d2893d3d-9223-4f25-f9b8-cce8dd576520"
   },
   "outputs": [
    {
     "name": "stdout",
     "output_type": "stream",
     "text": [
      "0.0 %\n"
     ]
    }
   ],
   "source": [
    "!python get_categorical_missing_rate.py --input_fname perform_info-after.csv"
   ]
  },
  {
   "cell_type": "markdown",
   "metadata": {
    "id": "VC1WfdvjQjlT"
   },
   "source": [
    "3. 이상치 비율"
   ]
  },
  {
   "cell_type": "code",
   "execution_count": 12,
   "metadata": {
    "colab": {
     "base_uri": "https://localhost:8080/"
    },
    "executionInfo": {
     "elapsed": 19511,
     "status": "ok",
     "timestamp": 1636100749552,
     "user": {
      "displayName": "DOHOON LEE",
      "photoUrl": "https://lh3.googleusercontent.com/a-/AOh14GgbilawY5M8IhTBJVT0ZHsrfWf7i9EKECyTiPYv=s64",
      "userId": "12016024105431403257"
     },
     "user_tz": -540
    },
    "id": "NCLX5Y3pQ9u0",
    "outputId": "39688a1d-79de-4f21-bd2f-1f6e36330ae6"
   },
   "outputs": [
    {
     "name": "stdout",
     "output_type": "stream",
     "text": [
      " 90% 9/10 [00:12<00:01,  1.38s/it]\n"
     ]
    }
   ],
   "source": [
    "!python outlier_detection.py --input_fname ./data/box_office.csv --train_fname ./data/box_office_clean.csv --result_path ./box_office-after"
   ]
  },
  {
   "cell_type": "code",
   "execution_count": 13,
   "metadata": {
    "colab": {
     "base_uri": "https://localhost:8080/"
    },
    "executionInfo": {
     "elapsed": 17212,
     "status": "ok",
     "timestamp": 1636100766752,
     "user": {
      "displayName": "DOHOON LEE",
      "photoUrl": "https://lh3.googleusercontent.com/a-/AOh14GgbilawY5M8IhTBJVT0ZHsrfWf7i9EKECyTiPYv=s64",
      "userId": "12016024105431403257"
     },
     "user_tz": -540
    },
    "id": "r3gSHHC8QjlU",
    "outputId": "6a1ed187-c090-4f11-afac-73f0906a9603"
   },
   "outputs": [
    {
     "name": "stdout",
     "output_type": "stream",
     "text": [
      "100% 10/10 [00:12<00:00,  1.26s/it]\n",
      "0.0036 %\n"
     ]
    }
   ],
   "source": [
    "!python get_outlier_rate.py --input_fname box_office-after.csv --train_fname ./data/box_office_clean.csv"
   ]
  },
  {
   "cell_type": "markdown",
   "metadata": {
    "id": "gjsn73T9QjlU"
   },
   "source": [
    "4. 텍스트 오류율"
   ]
  },
  {
   "cell_type": "code",
   "execution_count": 14,
   "metadata": {
    "colab": {
     "base_uri": "https://localhost:8080/"
    },
    "executionInfo": {
     "elapsed": 208356,
     "status": "ok",
     "timestamp": 1636100975084,
     "user": {
      "displayName": "DOHOON LEE",
      "photoUrl": "https://lh3.googleusercontent.com/a-/AOh14GgbilawY5M8IhTBJVT0ZHsrfWf7i9EKECyTiPYv=s64",
      "userId": "12016024105431403257"
     },
     "user_tz": -540
    },
    "id": "31pimVIJRXWE",
    "outputId": "6f03ca2b-7b2d-4fb0-a959-0a50936792eb"
   },
   "outputs": [
    {
     "name": "stdout",
     "output_type": "stream",
     "text": [
      "100% 831/831 [03:26<00:00,  4.02it/s]\n"
     ]
    }
   ],
   "source": [
    "!python text_correction.py --input_fname ./data/recbook.csv --result_fname recbook-after.csv --col_name description"
   ]
  },
  {
   "cell_type": "code",
   "execution_count": 15,
   "metadata": {
    "colab": {
     "base_uri": "https://localhost:8080/"
    },
    "executionInfo": {
     "elapsed": 203808,
     "status": "ok",
     "timestamp": 1636101178885,
     "user": {
      "displayName": "DOHOON LEE",
      "photoUrl": "https://lh3.googleusercontent.com/a-/AOh14GgbilawY5M8IhTBJVT0ZHsrfWf7i9EKECyTiPYv=s64",
      "userId": "12016024105431403257"
     },
     "user_tz": -540
    },
    "id": "R_VnHhHuQjlV",
    "outputId": "b6543d1a-0fcc-4b87-e186-712a01217746"
   },
   "outputs": [
    {
     "name": "stdout",
     "output_type": "stream",
     "text": [
      "100% 831/831 [03:23<00:00,  4.09it/s]\n",
      "0.0532 %\n"
     ]
    }
   ],
   "source": [
    "!python get_text_error_rate.py --input_fname recbook-after.csv --col_name description"
   ]
  },
  {
   "cell_type": "markdown",
   "metadata": {
    "id": "ZksH0d7lONKs"
   },
   "source": [
    "5. 포맷 오류율"
   ]
  },
  {
   "cell_type": "code",
   "execution_count": 16,
   "metadata": {
    "executionInfo": {
     "elapsed": 1536,
     "status": "ok",
     "timestamp": 1636101180411,
     "user": {
      "displayName": "DOHOON LEE",
      "photoUrl": "https://lh3.googleusercontent.com/a-/AOh14GgbilawY5M8IhTBJVT0ZHsrfWf7i9EKECyTiPYv=s64",
      "userId": "12016024105431403257"
     },
     "user_tz": -540
    },
    "id": "3QFmb-FBOT_L"
   },
   "outputs": [],
   "source": [
    "!python format_validation.py --input_fname ./data/event.csv --result_fname event-after.csv --func_name phone_correct --col_name phoneNumber"
   ]
  },
  {
   "cell_type": "code",
   "execution_count": 17,
   "metadata": {
    "colab": {
     "base_uri": "https://localhost:8080/"
    },
    "executionInfo": {
     "elapsed": 11,
     "status": "ok",
     "timestamp": 1636101180411,
     "user": {
      "displayName": "DOHOON LEE",
      "photoUrl": "https://lh3.googleusercontent.com/a-/AOh14GgbilawY5M8IhTBJVT0ZHsrfWf7i9EKECyTiPYv=s64",
      "userId": "12016024105431403257"
     },
     "user_tz": -540
    },
    "id": "xNZ2_Tlw4KCx",
    "outputId": "236e6cdf-cd30-408f-c216-a32f1d93a3af"
   },
   "outputs": [
    {
     "name": "stdout",
     "output_type": "stream",
     "text": [
      "0.0 %\n"
     ]
    }
   ],
   "source": [
    "!python format_validation.py --input_fname event-after.csv --func_name phone_check --col_name phoneNumber"
   ]
  }
 ],
 "metadata": {
  "accelerator": "GPU",
  "colab": {
   "collapsed_sections": [],
   "machine_shape": "hm",
   "name": "DataQualityEnhancer_v2.ipynb",
   "provenance": []
  },
  "kernelspec": {
   "display_name": "Python 3",
   "language": "python",
   "name": "python3"
  },
  "language_info": {
   "codemirror_mode": {
    "name": "ipython",
    "version": 3
   },
   "file_extension": ".py",
   "mimetype": "text/x-python",
   "name": "python",
   "nbconvert_exporter": "python",
   "pygments_lexer": "ipython3",
   "version": "3.7.6"
  }
 },
 "nbformat": 4,
 "nbformat_minor": 1
}
