{
 "cells": [
  {
   "cell_type": "markdown",
   "metadata": {
    "id": "VtrIzhJaNE8s"
   },
   "source": [
    "## 품질 성능"
   ]
  },
  {
   "cell_type": "markdown",
   "metadata": {
    "id": "wxrc4x_ZPfAy"
   },
   "source": [
    "1. 수치형 데이터 결측률"
   ]
  },
  {
   "cell_type": "code",
   "execution_count": 3,
   "metadata": {
    "colab": {
     "base_uri": "https://localhost:8080/"
    },
    "executionInfo": {
     "elapsed": 13,
     "status": "ok",
     "timestamp": 1634885296107,
     "user": {
      "displayName": "DOHOON LEE",
      "photoUrl": "https://lh3.googleusercontent.com/a-/AOh14GgbilawY5M8IhTBJVT0ZHsrfWf7i9EKECyTiPYv=s64",
      "userId": "12016024105431403257"
     },
     "user_tz": -540
    },
    "id": "qog6wG72NM7j",
    "outputId": "60c751fa-a2f2-476b-af60-792baedce777"
   },
   "outputs": [
    {
     "name": "stdout",
     "output_type": "stream",
     "text": [
      "9.5529 %\n"
     ]
    }
   ],
   "source": [
    "!python get_numerical_missing_rate.py --input_fname ./data/arisu.csv"
   ]
  },
  {
   "cell_type": "markdown",
   "metadata": {
    "id": "xZxvEwVlPp-5"
   },
   "source": [
    "2. 범주형 데이터 결측률"
   ]
  },
  {
   "cell_type": "code",
   "execution_count": 4,
   "metadata": {
    "colab": {
     "base_uri": "https://localhost:8080/"
    },
    "executionInfo": {
     "elapsed": 1393,
     "status": "ok",
     "timestamp": 1634885297495,
     "user": {
      "displayName": "DOHOON LEE",
      "photoUrl": "https://lh3.googleusercontent.com/a-/AOh14GgbilawY5M8IhTBJVT0ZHsrfWf7i9EKECyTiPYv=s64",
      "userId": "12016024105431403257"
     },
     "user_tz": -540
    },
    "id": "zP06fdi4PpHK",
    "outputId": "6dca8ace-381c-4742-d63a-d0af25b123d3"
   },
   "outputs": [
    {
     "name": "stdout",
     "output_type": "stream",
     "text": [
      "10.0254 %\n"
     ]
    }
   ],
   "source": [
    "!python get_categorical_missing_rate.py --input_fname ./data/perform_info.csv"
   ]
  },
  {
   "cell_type": "markdown",
   "metadata": {
    "id": "R_wK5AqQP0V4"
   },
   "source": [
    "3. 이상치 비율"
   ]
  },
  {
   "cell_type": "code",
   "execution_count": 5,
   "metadata": {
    "colab": {
     "base_uri": "https://localhost:8080/"
    },
    "executionInfo": {
     "elapsed": 16888,
     "status": "ok",
     "timestamp": 1634885314379,
     "user": {
      "displayName": "DOHOON LEE",
      "photoUrl": "https://lh3.googleusercontent.com/a-/AOh14GgbilawY5M8IhTBJVT0ZHsrfWf7i9EKECyTiPYv=s64",
      "userId": "12016024105431403257"
     },
     "user_tz": -540
    },
    "id": "tyfuqCB8NaYg",
    "outputId": "b6d0b104-3dc9-4ed4-9a5c-f6370feac3a5"
   },
   "outputs": [
    {
     "name": "stdout",
     "output_type": "stream",
     "text": [
      "100% 10/10 [00:12<00:00,  1.22s/it]\n",
      "9.806 %\n"
     ]
    }
   ],
   "source": [
    "!python get_outlier_rate.py --input_fname ./data/box_office.csv --train_fname ./data/box_office_clean.csv"
   ]
  },
  {
   "cell_type": "markdown",
   "metadata": {
    "id": "ehDAJlfQQKtx"
   },
   "source": [
    "4. 텍스트 오류율"
   ]
  },
  {
   "cell_type": "code",
   "execution_count": 6,
   "metadata": {
    "colab": {
     "base_uri": "https://localhost:8080/"
    },
    "executionInfo": {
     "elapsed": 116631,
     "status": "ok",
     "timestamp": 1634885430991,
     "user": {
      "displayName": "DOHOON LEE",
      "photoUrl": "https://lh3.googleusercontent.com/a-/AOh14GgbilawY5M8IhTBJVT0ZHsrfWf7i9EKECyTiPYv=s64",
      "userId": "12016024105431403257"
     },
     "user_tz": -540
    },
    "id": "bpiXO_ZCvEtU",
    "outputId": "bb9a70c0-7adb-490e-8897-0eecb70a4805"
   },
   "outputs": [
    {
     "name": "stdout",
     "output_type": "stream",
     "text": [
      "100% 831/831 [01:55<00:00,  7.16it/s]\n",
      "7.9481 %\n"
     ]
    }
   ],
   "source": [
    "!python get_text_error_rate.py --input_fname ./data/recbook.csv --col_name description"
   ]
  },
  {
   "cell_type": "markdown",
   "metadata": {
    "id": "aCNDsENwOI1W"
   },
   "source": [
    "5. 포맷 오류율"
   ]
  },
  {
   "cell_type": "code",
   "execution_count": 7,
   "metadata": {
    "colab": {
     "base_uri": "https://localhost:8080/"
    },
    "executionInfo": {
     "elapsed": 15,
     "status": "ok",
     "timestamp": 1634885430992,
     "user": {
      "displayName": "DOHOON LEE",
      "photoUrl": "https://lh3.googleusercontent.com/a-/AOh14GgbilawY5M8IhTBJVT0ZHsrfWf7i9EKECyTiPYv=s64",
      "userId": "12016024105431403257"
     },
     "user_tz": -540
    },
    "id": "xrwYwahPOIAc",
    "outputId": "e0bec18c-c031-4c5f-e1be-7d3946bb9721"
   },
   "outputs": [
    {
     "name": "stdout",
     "output_type": "stream",
     "text": [
      "10.6506 %\n"
     ]
    }
   ],
   "source": [
    "!python format_validation.py --input_fname ./data/event.csv --func_name phoneCheck --col_name phoneNumber"
   ]
  },
  {
   "cell_type": "markdown",
   "metadata": {
    "id": "wnjDYFTPQOl9"
   },
   "source": [
    "## 품질 향상도"
   ]
  },
  {
   "cell_type": "markdown",
   "metadata": {
    "id": "5QPN9d1BQjlS"
   },
   "source": [
    "1. 수치형 데이터 결측률"
   ]
  },
  {
   "cell_type": "code",
   "execution_count": 8,
   "metadata": {
    "colab": {
     "base_uri": "https://localhost:8080/"
    },
    "executionInfo": {
     "elapsed": 46602,
     "status": "ok",
     "timestamp": 1634885477587,
     "user": {
      "displayName": "DOHOON LEE",
      "photoUrl": "https://lh3.googleusercontent.com/a-/AOh14GgbilawY5M8IhTBJVT0ZHsrfWf7i9EKECyTiPYv=s64",
      "userId": "12016024105431403257"
     },
     "user_tz": -540
    },
    "id": "_P42KYK8QlQ7",
    "outputId": "56c44f3f-f444-455c-9a3c-78821932e686"
   },
   "outputs": [
    {
     "name": "stdout",
     "output_type": "stream",
     "text": [
      "100% 10/10 [00:39<00:00,  3.92s/it]\n"
     ]
    }
   ],
   "source": [
    "!python data_imputation.py --input_fname ./data/arisu.csv --result_path ./arisu-after"
   ]
  },
  {
   "cell_type": "code",
   "execution_count": 9,
   "metadata": {
    "colab": {
     "base_uri": "https://localhost:8080/"
    },
    "executionInfo": {
     "elapsed": 13,
     "status": "ok",
     "timestamp": 1634885477588,
     "user": {
      "displayName": "DOHOON LEE",
      "photoUrl": "https://lh3.googleusercontent.com/a-/AOh14GgbilawY5M8IhTBJVT0ZHsrfWf7i9EKECyTiPYv=s64",
      "userId": "12016024105431403257"
     },
     "user_tz": -540
    },
    "id": "dDsYghqFQjlS",
    "outputId": "4e530e5a-8300-4806-a330-c2eccf110461"
   },
   "outputs": [
    {
     "name": "stdout",
     "output_type": "stream",
     "text": [
      "0.0 %\n"
     ]
    }
   ],
   "source": [
    "!python get_numerical_missing_rate.py --input_fname arisu-after.csv"
   ]
  },
  {
   "cell_type": "markdown",
   "metadata": {
    "id": "5sI4BmBpQjlT"
   },
   "source": [
    "2. 범주형 데이터 결측률"
   ]
  },
  {
   "cell_type": "code",
   "execution_count": 10,
   "metadata": {
    "colab": {
     "base_uri": "https://localhost:8080/"
    },
    "executionInfo": {
     "elapsed": 177008,
     "status": "ok",
     "timestamp": 1634885654590,
     "user": {
      "displayName": "DOHOON LEE",
      "photoUrl": "https://lh3.googleusercontent.com/a-/AOh14GgbilawY5M8IhTBJVT0ZHsrfWf7i9EKECyTiPYv=s64",
      "userId": "12016024105431403257"
     },
     "user_tz": -540
    },
    "id": "04665ZwLQzCm",
    "outputId": "3ded357f-dca4-4681-daa6-1f5c512b69cd"
   },
   "outputs": [
    {
     "name": "stdout",
     "output_type": "stream",
     "text": [
      "100% 10/10 [02:37<00:00, 15.70s/it]\n"
     ]
    }
   ],
   "source": [
    "!python data_imputation.py --input_fname ./data/perform_info.csv --result_path ./perform_info-after"
   ]
  },
  {
   "cell_type": "code",
   "execution_count": 11,
   "metadata": {
    "colab": {
     "base_uri": "https://localhost:8080/"
    },
    "executionInfo": {
     "elapsed": 952,
     "status": "ok",
     "timestamp": 1634885655532,
     "user": {
      "displayName": "DOHOON LEE",
      "photoUrl": "https://lh3.googleusercontent.com/a-/AOh14GgbilawY5M8IhTBJVT0ZHsrfWf7i9EKECyTiPYv=s64",
      "userId": "12016024105431403257"
     },
     "user_tz": -540
    },
    "id": "EFdPf6pjQjlT",
    "outputId": "4285690b-ec3e-4859-fe59-d860d8596e1a"
   },
   "outputs": [
    {
     "name": "stdout",
     "output_type": "stream",
     "text": [
      "0.0 %\n"
     ]
    }
   ],
   "source": [
    "!python get_categorical_missing_rate.py --input_fname perform_info-after.csv"
   ]
  },
  {
   "cell_type": "markdown",
   "metadata": {
    "id": "VC1WfdvjQjlT"
   },
   "source": [
    "3. 이상치 비율"
   ]
  },
  {
   "cell_type": "code",
   "execution_count": 12,
   "metadata": {
    "colab": {
     "base_uri": "https://localhost:8080/"
    },
    "executionInfo": {
     "elapsed": 17565,
     "status": "ok",
     "timestamp": 1634885673094,
     "user": {
      "displayName": "DOHOON LEE",
      "photoUrl": "https://lh3.googleusercontent.com/a-/AOh14GgbilawY5M8IhTBJVT0ZHsrfWf7i9EKECyTiPYv=s64",
      "userId": "12016024105431403257"
     },
     "user_tz": -540
    },
    "id": "NCLX5Y3pQ9u0",
    "outputId": "2757f14d-2124-41a7-da5c-1e665d6411bf"
   },
   "outputs": [
    {
     "name": "stdout",
     "output_type": "stream",
     "text": [
      "100% 10/10 [00:11<00:00,  1.19s/it]\n"
     ]
    }
   ],
   "source": [
    "!python outlier_detection.py --input_fname ./data/box_office.csv --train_fname ./data/box_office_clean.csv --result_path ./box_office-after"
   ]
  },
  {
   "cell_type": "code",
   "execution_count": 13,
   "metadata": {
    "colab": {
     "base_uri": "https://localhost:8080/"
    },
    "executionInfo": {
     "elapsed": 14494,
     "status": "ok",
     "timestamp": 1634885687577,
     "user": {
      "displayName": "DOHOON LEE",
      "photoUrl": "https://lh3.googleusercontent.com/a-/AOh14GgbilawY5M8IhTBJVT0ZHsrfWf7i9EKECyTiPYv=s64",
      "userId": "12016024105431403257"
     },
     "user_tz": -540
    },
    "id": "r3gSHHC8QjlU",
    "outputId": "4722830b-6131-4729-ef3e-3d674eedfa39"
   },
   "outputs": [
    {
     "name": "stdout",
     "output_type": "stream",
     "text": [
      " 70% 7/10 [00:09<00:04,  1.36s/it]\n",
      "0.0 %\n"
     ]
    }
   ],
   "source": [
    "!python get_outlier_rate.py --input_fname box_office-after.csv --train_fname ./data/box_office_clean.csv"
   ]
  },
  {
   "cell_type": "markdown",
   "metadata": {
    "id": "gjsn73T9QjlU"
   },
   "source": [
    "4. 텍스트 오류율"
   ]
  },
  {
   "cell_type": "code",
   "execution_count": 14,
   "metadata": {
    "colab": {
     "base_uri": "https://localhost:8080/"
    },
    "executionInfo": {
     "elapsed": 115591,
     "status": "ok",
     "timestamp": 1634885803150,
     "user": {
      "displayName": "DOHOON LEE",
      "photoUrl": "https://lh3.googleusercontent.com/a-/AOh14GgbilawY5M8IhTBJVT0ZHsrfWf7i9EKECyTiPYv=s64",
      "userId": "12016024105431403257"
     },
     "user_tz": -540
    },
    "id": "31pimVIJRXWE",
    "outputId": "a88b2309-36fd-493b-ea12-cf067455a3db"
   },
   "outputs": [
    {
     "name": "stdout",
     "output_type": "stream",
     "text": [
      "100% 831/831 [01:55<00:00,  7.22it/s]\n"
     ]
    }
   ],
   "source": [
    "!python text_correction.py --input_fname ./data/recbook.csv --result_fname recbook-after.csv --col_name description"
   ]
  },
  {
   "cell_type": "code",
   "execution_count": 15,
   "metadata": {
    "colab": {
     "base_uri": "https://localhost:8080/"
    },
    "executionInfo": {
     "elapsed": 114724,
     "status": "ok",
     "timestamp": 1634885917856,
     "user": {
      "displayName": "DOHOON LEE",
      "photoUrl": "https://lh3.googleusercontent.com/a-/AOh14GgbilawY5M8IhTBJVT0ZHsrfWf7i9EKECyTiPYv=s64",
      "userId": "12016024105431403257"
     },
     "user_tz": -540
    },
    "id": "R_VnHhHuQjlV",
    "outputId": "9fa9bac2-710e-41d0-857d-e38cf9a1a52b"
   },
   "outputs": [
    {
     "name": "stdout",
     "output_type": "stream",
     "text": [
      "100% 831/831 [01:54<00:00,  7.25it/s]\n",
      "0.0532 %\n"
     ]
    }
   ],
   "source": [
    "!python get_text_error_rate.py --input_fname recbook-after.csv --col_name description"
   ]
  },
  {
   "cell_type": "markdown",
   "metadata": {
    "id": "ZksH0d7lONKs"
   },
   "source": [
    "5. 포맷 오류율"
   ]
  },
  {
   "cell_type": "code",
   "execution_count": 16,
   "metadata": {
    "executionInfo": {
     "elapsed": 995,
     "status": "ok",
     "timestamp": 1634885918845,
     "user": {
      "displayName": "DOHOON LEE",
      "photoUrl": "https://lh3.googleusercontent.com/a-/AOh14GgbilawY5M8IhTBJVT0ZHsrfWf7i9EKECyTiPYv=s64",
      "userId": "12016024105431403257"
     },
     "user_tz": -540
    },
    "id": "3QFmb-FBOT_L"
   },
   "outputs": [],
   "source": [
    "!python format_validation.py --input_fname ./data/event.csv --result_fname event-after.csv --func_name phoneCorrect --col_name phoneNumber"
   ]
  },
  {
   "cell_type": "code",
   "execution_count": 17,
   "metadata": {
    "colab": {
     "base_uri": "https://localhost:8080/"
    },
    "executionInfo": {
     "elapsed": 1229,
     "status": "ok",
     "timestamp": 1634885920070,
     "user": {
      "displayName": "DOHOON LEE",
      "photoUrl": "https://lh3.googleusercontent.com/a-/AOh14GgbilawY5M8IhTBJVT0ZHsrfWf7i9EKECyTiPYv=s64",
      "userId": "12016024105431403257"
     },
     "user_tz": -540
    },
    "id": "1cTRsgtROU7S",
    "outputId": "d5dbf370-2b50-4e66-d70c-d005204fc4a5"
   },
   "outputs": [
    {
     "name": "stdout",
     "output_type": "stream",
     "text": [
      "0.0 %\n"
     ]
    }
   ],
   "source": [
    "!python format_validation.py --input_fname event-after.csv --func_name phoneCheck --col_name phoneNumber"
   ]
  }
 ],
 "metadata": {
  "accelerator": "GPU",
  "colab": {
   "collapsed_sections": [],
   "machine_shape": "hm",
   "name": "DataQualityEnhancer_v2.ipynb",
   "provenance": []
  },
  "kernelspec": {
   "display_name": "Python 3",
   "language": "python",
   "name": "python3"
  },
  "language_info": {
   "codemirror_mode": {
    "name": "ipython",
    "version": 3
   },
   "file_extension": ".py",
   "mimetype": "text/x-python",
   "name": "python",
   "nbconvert_exporter": "python",
   "pygments_lexer": "ipython3",
   "version": "3.7.6"
  }
 },
 "nbformat": 4,
 "nbformat_minor": 1
}
